{
 "metadata": {
  "name": "",
  "signature": "sha256:9aa12503d9cba7a1985fd694ff4b0211652514b4cb01309a5a4a8e4e90c39bcd"
 },
 "nbformat": 3,
 "nbformat_minor": 0,
 "worksheets": [
  {
   "cells": [
    {
     "cell_type": "markdown",
     "metadata": {},
     "source": [
      "## Imports and utilitiy functions to run the example"
     ]
    },
    {
     "cell_type": "code",
     "collapsed": false,
     "input": [
      "# Displaying utilities\n",
      "from ipython_integration import display_summary, display_molecule\n",
      "\n",
      "# pDynamo modules\n",
      "from pBabel import MOLFile_ToSystem, PDBFile_ToSystem, XYZFile_ToSystem, SMILES_ToSystem\n",
      "\n",
      "import os\n",
      "data_dir = os.path.dirname('pDynamo-1.9.0/book/data/')"
     ],
     "language": "python",
     "metadata": {},
     "outputs": [],
     "prompt_number": 11
    },
    {
     "cell_type": "markdown",
     "metadata": {},
     "source": [
      "#1. Read and display molecules in different formats"
     ]
    },
    {
     "cell_type": "code",
     "collapsed": false,
     "input": [
      "# Initialize a list to contain the molecules\n",
      "moleculeName = \"bala_c7eq\""
     ],
     "language": "python",
     "metadata": {},
     "outputs": [],
     "prompt_number": 12
    },
    {
     "cell_type": "markdown",
     "metadata": {},
     "source": [
      "## Mol Format"
     ]
    },
    {
     "cell_type": "code",
     "collapsed": false,
     "input": [
      "mol_molecule = MOLFile_ToSystem(os.path.join(data_dir, 'mol', moleculeName + \".mol\"))\n",
      "display_summary(mol_molecule)"
     ],
     "language": "python",
     "metadata": {},
     "outputs": [
      {
       "html": [
        "<h1>\n",
        "Summary for System \"bALA C7 equatorial configuration - MOL format.\"\n",
        "</h1>\n",
        "<div>\n",
        "<table border = \"1\" cellpadding = \"10\" cellspacing = \"0\">\n",
        "<tr><th colspan = \"4\">Atom Container Summary</th></tr>\n",
        "<tr>\n",
        "<td>Number of Atoms</td>\n",
        "<td>22</td>\n",
        "<td>Number of Heavy Atoms</td>\n",
        "<td>10</td>\n",
        "</tr>\n",
        "<tr>\n",
        "<td>Number of Hydrogens</td>\n",
        "<td>12</td>\n",
        "<td>Number of Unknowns</td>\n",
        "<td>0</td>\n",
        "</tr>\n",
        "</table></div>\n",
        "<div>\n",
        "<table border = \"1\" cellpadding = \"10\" cellspacing = \"0\">\n",
        "<tr><th colspan = \"4\">Connectivity Summary</th></tr>\n",
        "<tr>\n",
        "<td>Atoms</td>\n",
        "<td>22</td>\n",
        "<td>Bonds</td>\n",
        "<td>21</td>\n",
        "</tr>\n",
        "<tr>\n",
        "<td>Angles</td>\n",
        "<td>36</td>\n",
        "<td>Dihedrals</td>\n",
        "<td>41</td>\n",
        "</tr>\n",
        "<tr>\n",
        "<td>Isolates</td>\n",
        "<td>1</td>\n",
        "<td>Ring Sets</td>\n",
        "<td>0</td>\n",
        "</tr>\n",
        "</table></div>\n"
       ],
       "metadata": {},
       "output_type": "pyout",
       "prompt_number": 13,
       "text": [
        "<IPython.core.display.HTML at 0x7fc44f30ff10>"
       ]
      }
     ],
     "prompt_number": 13
    },
    {
     "cell_type": "code",
     "collapsed": false,
     "input": [
      "display_molecule(mol_molecule)"
     ],
     "language": "python",
     "metadata": {},
     "outputs": [
      {
       "metadata": {},
       "output_type": "pyout",
       "png": "[encoded data removed]",
       "prompt_number": 14,
       "text": [
        "<rdkit.Chem.rdchem.Mol at 0x7fc44f4628a0>"
       ]
      }
     ],
     "prompt_number": 14
    },
    {
     "cell_type": "markdown",
     "metadata": {},
     "source": [
      "## PDB Format"
     ]
    },
    {
     "cell_type": "code",
     "collapsed": false,
     "input": [
      "pdb_molecule = PDBFile_ToSystem(os.path.join(data_dir, 'pdb', moleculeName + \".pdb\"), log=None)\n",
      "display_summary(pdb_molecule)"
     ],
     "language": "python",
     "metadata": {},
     "outputs": [
      {
       "html": [
        "<h1>\n",
        "Summary for System \"Bala C7 Equatorial Configuration - Pdb Format.\"\n",
        "</h1>\n",
        "<div>\n",
        "<table border = \"1\" cellpadding = \"10\" cellspacing = \"0\">\n",
        "<tr><th colspan = \"4\">Atom Container Summary</th></tr>\n",
        "<tr>\n",
        "<td>Number of Atoms</td>\n",
        "<td>22</td>\n",
        "<td>Number of Heavy Atoms</td>\n",
        "<td>10</td>\n",
        "</tr>\n",
        "<tr>\n",
        "<td>Number of Hydrogens</td>\n",
        "<td>12</td>\n",
        "<td>Number of Unknowns</td>\n",
        "<td>0</td>\n",
        "</tr>\n",
        "</table></div>\n",
        "<div>\n",
        "<table border = \"1\" cellpadding = \"10\" cellspacing = \"0\">\n",
        "<tr><th colspan = \"4\">Connectivity Summary</th></tr>\n",
        "<tr>\n",
        "<td>Atoms</td>\n",
        "<td>22</td>\n",
        "<td>Bonds</td>\n",
        "<td>0</td>\n",
        "</tr>\n",
        "<tr>\n",
        "<td>Angles</td>\n",
        "<td>0</td>\n",
        "<td>Dihedrals</td>\n",
        "<td>0</td>\n",
        "</tr>\n",
        "<tr>\n",
        "<td>Isolates</td>\n",
        "<td>0</td>\n",
        "<td>Ring Sets</td>\n",
        "<td>0</td>\n",
        "</tr>\n",
        "</table></div>\n",
        "<div>\n",
        "<table border = \"1\" cellpadding = \"10\" cellspacing = \"0\">\n",
        "<tr><th colspan = \"4\">Sequence Summary</th></tr>\n",
        "<tr>\n",
        "<td>Number of Atoms</td>\n",
        "<td>22</td>\n",
        "<td>Number of Components</td>\n",
        "<td>1</td>\n",
        "</tr>\n",
        "<tr>\n",
        "<td>Number of Entities</td>\n",
        "<td>1</td>\n",
        "<td>Number of Linear Polymers</td>\n",
        "<td>0</td>\n",
        "</tr>\n",
        "<tr>\n",
        "<td>Number of Links</td>\n",
        "<td>0</td>\n",
        "<td>Number of Variants</td>\n",
        "<td>0</td>\n",
        "</tr>\n",
        "</table></div>\n"
       ],
       "metadata": {},
       "output_type": "pyout",
       "prompt_number": 15,
       "text": [
        "<IPython.core.display.HTML at 0x7fc45a2a6350>"
       ]
      }
     ],
     "prompt_number": 15
    },
    {
     "cell_type": "markdown",
     "metadata": {},
     "source": [
      "### PDB doesn't have bond info, so infer from coordinates for displaying"
     ]
    },
    {
     "cell_type": "code",
     "collapsed": false,
     "input": [
      "pdb_molecule.BondsFromCoordinates3()\n",
      "display_molecule(pdb_molecule)"
     ],
     "language": "python",
     "metadata": {},
     "outputs": [
      {
       "metadata": {},
       "output_type": "pyout",
       "png": "[encoded data removed]",
       "prompt_number": 16,
       "text": [
        "<rdkit.Chem.rdchem.Mol at 0x7fc44f462670>"
       ]
      }
     ],
     "prompt_number": 16
    },
    {
     "cell_type": "markdown",
     "metadata": {},
     "source": [
      "## XYZ Format"
     ]
    },
    {
     "cell_type": "code",
     "collapsed": false,
     "input": [
      "xyz_molecule = XYZFile_ToSystem(os.path.join(data_dir, 'xyz', moleculeName + \".xyz\"))\n",
      "display_summary(xyz_molecule)"
     ],
     "language": "python",
     "metadata": {},
     "outputs": [
      {
       "html": [
        "<h1>\n",
        "Summary for System \"bALA C7 equatorial configuration (OPLS-AA force field)\"\n",
        "</h1>\n",
        "<div>\n",
        "<table border = \"1\" cellpadding = \"10\" cellspacing = \"0\">\n",
        "<tr><th colspan = \"4\">Atom Container Summary</th></tr>\n",
        "<tr>\n",
        "<td>Number of Atoms</td>\n",
        "<td>22</td>\n",
        "<td>Number of Heavy Atoms</td>\n",
        "<td>10</td>\n",
        "</tr>\n",
        "<tr>\n",
        "<td>Number of Hydrogens</td>\n",
        "<td>12</td>\n",
        "<td>Number of Unknowns</td>\n",
        "<td>0</td>\n",
        "</tr>\n",
        "</table></div>\n",
        "<div>\n",
        "<table border = \"1\" cellpadding = \"10\" cellspacing = \"0\">\n",
        "<tr><th colspan = \"4\">Connectivity Summary</th></tr>\n",
        "<tr>\n",
        "<td>Atoms</td>\n",
        "<td>22</td>\n",
        "<td>&nbsp;</td>\n",
        "<td>&nbsp;</td>\n",
        "</tr>\n",
        "</table></div>\n"
       ],
       "metadata": {},
       "output_type": "pyout",
       "prompt_number": 17,
       "text": [
        "<IPython.core.display.HTML at 0x7fc44f2afb90>"
       ]
      }
     ],
     "prompt_number": 17
    },
    {
     "cell_type": "markdown",
     "metadata": {},
     "source": [
      "### XYZ doesn't have bond info, so infer from coordinates for displaying"
     ]
    },
    {
     "cell_type": "code",
     "collapsed": false,
     "input": [
      "xyz_molecule.BondsFromCoordinates3()\n",
      "display_molecule(xyz_molecule)"
     ],
     "language": "python",
     "metadata": {},
     "outputs": [
      {
       "metadata": {},
       "output_type": "pyout",
       "png": "[encoded data removed]",
       "prompt_number": 8,
       "text": [
        "<rdkit.Chem.rdchem.Mol at 0x7fc44f462830>"
       ]
      }
     ],
     "prompt_number": 8
    },
    {
     "cell_type": "markdown",
     "metadata": {},
     "source": [
      "## SMILES Format"
     ]
    },
    {
     "cell_type": "code",
     "collapsed": false,
     "input": [
      "smiles_molecule = SMILES_ToSystem(\"CC(=O)NC(C)C(=O)NC\", log=None)\n",
      "display_summary(smiles_molecule)"
     ],
     "language": "python",
     "metadata": {},
     "outputs": [
      {
       "html": [
        "<h1>\n",
        "Summary for System \"CC(=O)NC(C)C(=O)NC\"\n",
        "</h1>\n",
        "<div>\n",
        "<table border = \"1\" cellpadding = \"10\" cellspacing = \"0\">\n",
        "<tr><th colspan = \"4\">Atom Container Summary</th></tr>\n",
        "<tr>\n",
        "<td>Number of Atoms</td>\n",
        "<td>22</td>\n",
        "<td>Number of Heavy Atoms</td>\n",
        "<td>10</td>\n",
        "</tr>\n",
        "<tr>\n",
        "<td>Number of Hydrogens</td>\n",
        "<td>12</td>\n",
        "<td>Number of Unknowns</td>\n",
        "<td>0</td>\n",
        "</tr>\n",
        "</table></div>\n",
        "<div>\n",
        "<table border = \"1\" cellpadding = \"10\" cellspacing = \"0\">\n",
        "<tr><th colspan = \"4\">Connectivity Summary</th></tr>\n",
        "<tr>\n",
        "<td>Atoms</td>\n",
        "<td>22</td>\n",
        "<td>Bonds</td>\n",
        "<td>21</td>\n",
        "</tr>\n",
        "<tr>\n",
        "<td>Angles</td>\n",
        "<td>36</td>\n",
        "<td>Dihedrals</td>\n",
        "<td>41</td>\n",
        "</tr>\n",
        "<tr>\n",
        "<td>Isolates</td>\n",
        "<td>1</td>\n",
        "<td>Ring Sets</td>\n",
        "<td>0</td>\n",
        "</tr>\n",
        "</table></div>\n"
       ],
       "metadata": {},
       "output_type": "pyout",
       "prompt_number": 9,
       "text": [
        "<IPython.core.display.HTML at 0x7fc44f30fc90>"
       ]
      }
     ],
     "prompt_number": 9
    },
    {
     "cell_type": "code",
     "collapsed": false,
     "input": [
      "display_molecule(smiles_molecule)"
     ],
     "language": "python",
     "metadata": {},
     "outputs": [
      {
       "metadata": {},
       "output_type": "pyout",
       "png": "[encoded data removed]",
       "prompt_number": 10,
       "text": [
        "<rdkit.Chem.rdchem.Mol at 0x7fc44f462910>"
       ]
      }
     ],
     "prompt_number": 10
    }
   ],
   "metadata": {}
  }
 ]
}
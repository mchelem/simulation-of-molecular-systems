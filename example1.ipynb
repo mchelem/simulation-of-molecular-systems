{
 "metadata": {
  "name": "",
  "signature": "sha256:8348b083a43897951d63ec3adeac6eead3f41806000953703e6fb154b3db0da1"
 },
 "nbformat": 3,
 "nbformat_minor": 0,
 "worksheets": [
  {
   "cells": [
    {
     "cell_type": "markdown",
     "metadata": {},
     "source": [
      "## Imports and utilitiy functions to run the example"
     ]
    },
    {
     "cell_type": "code",
     "collapsed": false,
     "input": [
      "# Displaying utilities\n",
      "from ipython_integration import display_summary, display_molecule\n",
      "\n",
      "# pDynamo modules\n",
      "from pMolecule import System\n",
      "from pCore import Selection\n",
      "from pMoleculeScripts import MergeByAtom, PruneByAtom"
     ],
     "language": "python",
     "metadata": {},
     "outputs": [],
     "prompt_number": 1
    },
    {
     "cell_type": "markdown",
     "metadata": {},
     "source": [
      "#1. Create a water molecule"
     ]
    },
    {
     "cell_type": "code",
     "collapsed": false,
     "input": [
      "# Create a water molecule\n",
      "\n",
      "# Adding also bonds to correctly display the molecule\n",
      "water = System.FromAtoms(atoms=[8, 1, 1], bonds=[(0, 1), (0, 2)])\n",
      "water.label = \"Water\"\n",
      "display_summary(water)"
     ],
     "language": "python",
     "metadata": {},
     "outputs": [
      {
       "html": [
        "<h1>\n",
        "Summary for System \"Water\"\n",
        "</h1>\n",
        "<div>\n",
        "<table border = \"1\" cellpadding = \"10\" cellspacing = \"0\">\n",
        "<tr><th colspan = \"4\">Atom Container Summary</th></tr>\n",
        "<tr>\n",
        "<td>Number of Atoms</td>\n",
        "<td>3</td>\n",
        "<td>Number of Heavy Atoms</td>\n",
        "<td>1</td>\n",
        "</tr>\n",
        "<tr>\n",
        "<td>Number of Hydrogens</td>\n",
        "<td>2</td>\n",
        "<td>Number of Unknowns</td>\n",
        "<td>0</td>\n",
        "</tr>\n",
        "</table></div>\n",
        "<div>\n",
        "<table border = \"1\" cellpadding = \"10\" cellspacing = \"0\">\n",
        "<tr><th colspan = \"4\">Connectivity Summary</th></tr>\n",
        "<tr>\n",
        "<td>Atoms</td>\n",
        "<td>3</td>\n",
        "<td>Bonds</td>\n",
        "<td>2</td>\n",
        "</tr>\n",
        "<tr>\n",
        "<td>Angles</td>\n",
        "<td>1</td>\n",
        "<td>Dihedrals</td>\n",
        "<td>0</td>\n",
        "</tr>\n",
        "<tr>\n",
        "<td>Isolates</td>\n",
        "<td>1</td>\n",
        "<td>Ring Sets</td>\n",
        "<td>0</td>\n",
        "</tr>\n",
        "</table></div>\n"
       ],
       "metadata": {},
       "output_type": "pyout",
       "prompt_number": 2,
       "text": [
        "<IPython.core.display.HTML at 0x7f4dfa42b3d0>"
       ]
      }
     ],
     "prompt_number": 2
    },
    {
     "cell_type": "code",
     "collapsed": false,
     "input": [
      "display_molecule(water)"
     ],
     "language": "python",
     "metadata": {},
     "outputs": [
      {
       "metadata": {},
       "output_type": "pyout",
       "png": "[encoded data removed]",
       "prompt_number": 3,
       "text": [
        "<rdkit.Chem.rdchem.Mol at 0x7f4dfa4280c0>"
       ]
      }
     ],
     "prompt_number": 3
    },
    {
     "cell_type": "markdown",
     "metadata": {},
     "source": [
      "#2. Create a water dimer"
     ]
    },
    {
     "cell_type": "code",
     "collapsed": false,
     "input": [
      "# Create a water dimer\n",
      "waterDimer = MergeByAtom (water, water)\n",
      "waterDimer.label = \"Water Dimer\"\n",
      "display_summary(waterDimer)"
     ],
     "language": "python",
     "metadata": {},
     "outputs": [
      {
       "html": [
        "<h1>\n",
        "Summary for System \"Water Dimer\"\n",
        "</h1>\n",
        "<div>\n",
        "<table border = \"1\" cellpadding = \"10\" cellspacing = \"0\">\n",
        "<tr><th colspan = \"4\">Atom Container Summary</th></tr>\n",
        "<tr>\n",
        "<td>Number of Atoms</td>\n",
        "<td>6</td>\n",
        "<td>Number of Heavy Atoms</td>\n",
        "<td>2</td>\n",
        "</tr>\n",
        "<tr>\n",
        "<td>Number of Hydrogens</td>\n",
        "<td>4</td>\n",
        "<td>Number of Unknowns</td>\n",
        "<td>0</td>\n",
        "</tr>\n",
        "</table></div>\n",
        "<div>\n",
        "<table border = \"1\" cellpadding = \"10\" cellspacing = \"0\">\n",
        "<tr><th colspan = \"4\">Connectivity Summary</th></tr>\n",
        "<tr>\n",
        "<td>Atoms</td>\n",
        "<td>6</td>\n",
        "<td>Bonds</td>\n",
        "<td>4</td>\n",
        "</tr>\n",
        "<tr>\n",
        "<td>Angles</td>\n",
        "<td>2</td>\n",
        "<td>Dihedrals</td>\n",
        "<td>0</td>\n",
        "</tr>\n",
        "<tr>\n",
        "<td>Isolates</td>\n",
        "<td>2</td>\n",
        "<td>Ring Sets</td>\n",
        "<td>0</td>\n",
        "</tr>\n",
        "</table></div>\n"
       ],
       "metadata": {},
       "output_type": "pyout",
       "prompt_number": 4,
       "text": [
        "<IPython.core.display.HTML at 0x7f4df00323d0>"
       ]
      }
     ],
     "prompt_number": 4
    },
    {
     "cell_type": "code",
     "collapsed": false,
     "input": [
      "display_molecule(waterDimer)"
     ],
     "language": "python",
     "metadata": {},
     "outputs": [
      {
       "metadata": {},
       "output_type": "pyout",
       "png": "[encoded data removed]",
       "prompt_number": 5,
       "text": [
        "<rdkit.Chem.rdchem.Mol at 0x7f4df0029360>"
       ]
      }
     ],
     "prompt_number": 5
    },
    {
     "cell_type": "markdown",
     "metadata": {},
     "source": [
      "#3. Create a hydroxyl"
     ]
    },
    {
     "cell_type": "code",
     "collapsed": false,
     "input": [
      "# Create a hydroxyl\n",
      "oh = Selection.FromIterable([0, 1])\n",
      "hydroxyl = PruneByAtom(water, oh)\n",
      "hydroxyl.label = \"Hydroxyl\"\n",
      "display_summary(hydroxyl)"
     ],
     "language": "python",
     "metadata": {},
     "outputs": [
      {
       "html": [
        "<h1>\n",
        "Summary for System \"Hydroxyl\"\n",
        "</h1>\n",
        "<div>\n",
        "<table border = \"1\" cellpadding = \"10\" cellspacing = \"0\">\n",
        "<tr><th colspan = \"4\">Atom Container Summary</th></tr>\n",
        "<tr>\n",
        "<td>Number of Atoms</td>\n",
        "<td>2</td>\n",
        "<td>Number of Heavy Atoms</td>\n",
        "<td>1</td>\n",
        "</tr>\n",
        "<tr>\n",
        "<td>Number of Hydrogens</td>\n",
        "<td>1</td>\n",
        "<td>Number of Unknowns</td>\n",
        "<td>0</td>\n",
        "</tr>\n",
        "</table></div>\n",
        "<div>\n",
        "<table border = \"1\" cellpadding = \"10\" cellspacing = \"0\">\n",
        "<tr><th colspan = \"4\">Connectivity Summary</th></tr>\n",
        "<tr>\n",
        "<td>Atoms</td>\n",
        "<td>2</td>\n",
        "<td>Bonds</td>\n",
        "<td>1</td>\n",
        "</tr>\n",
        "<tr>\n",
        "<td>Angles</td>\n",
        "<td>0</td>\n",
        "<td>Dihedrals</td>\n",
        "<td>0</td>\n",
        "</tr>\n",
        "<tr>\n",
        "<td>Isolates</td>\n",
        "<td>1</td>\n",
        "<td>Ring Sets</td>\n",
        "<td>0</td>\n",
        "</tr>\n",
        "</table></div>\n"
       ],
       "metadata": {},
       "output_type": "pyout",
       "prompt_number": 6,
       "text": [
        "<IPython.core.display.HTML at 0x7f4df0032d50>"
       ]
      }
     ],
     "prompt_number": 6
    },
    {
     "cell_type": "code",
     "collapsed": false,
     "input": [
      "display_molecule(hydroxyl)"
     ],
     "language": "python",
     "metadata": {},
     "outputs": [
      {
       "metadata": {},
       "output_type": "pyout",
       "png": "[encoded data removed]",
       "prompt_number": 7,
       "text": [
        "<rdkit.Chem.rdchem.Mol at 0x7f4df0029600>"
       ]
      }
     ],
     "prompt_number": 7
    },
    {
     "cell_type": "markdown",
     "metadata": {},
     "source": [
      "#4. Extra example (not in the book)"
     ]
    },
    {
     "cell_type": "code",
     "collapsed": false,
     "input": [
      "# Create a benzene\n",
      "benzene = System.FromAtoms(\n",
      "    atoms=[6, 6, 6, 6, 6, 6, 1, 1, 1, 1, 1, 1], \n",
      "    bonds={\n",
      "        'Single': [(1, 2), (3, 4), (5, 0), (0, 6), (1, 7), (2, 8), (3, 9), (4, 10), (5, 11)],\n",
      "        'AromaticSingle': [(0, 1), (2, 3), (4, 5)],\n",
      "    }\n",
      ")\n",
      "\n",
      "display_summary(benzene)"
     ],
     "language": "python",
     "metadata": {},
     "outputs": [
      {
       "html": [
        "<h1>\n",
        "System Summary\n",
        "</h1>\n",
        "<div>\n",
        "<table border = \"1\" cellpadding = \"10\" cellspacing = \"0\">\n",
        "<tr><th colspan = \"4\">Atom Container Summary</th></tr>\n",
        "<tr>\n",
        "<td>Number of Atoms</td>\n",
        "<td>12</td>\n",
        "<td>Number of Heavy Atoms</td>\n",
        "<td>6</td>\n",
        "</tr>\n",
        "<tr>\n",
        "<td>Number of Hydrogens</td>\n",
        "<td>6</td>\n",
        "<td>Number of Unknowns</td>\n",
        "<td>0</td>\n",
        "</tr>\n",
        "</table></div>\n",
        "<div>\n",
        "<table border = \"1\" cellpadding = \"10\" cellspacing = \"0\">\n",
        "<tr><th colspan = \"4\">Connectivity Summary</th></tr>\n",
        "<tr>\n",
        "<td>Atoms</td>\n",
        "<td>12</td>\n",
        "<td>Bonds</td>\n",
        "<td>12</td>\n",
        "</tr>\n",
        "<tr>\n",
        "<td>Angles</td>\n",
        "<td>18</td>\n",
        "<td>Dihedrals</td>\n",
        "<td>24</td>\n",
        "</tr>\n",
        "<tr>\n",
        "<td>Isolates</td>\n",
        "<td>1</td>\n",
        "<td>Ring Sets</td>\n",
        "<td>1</td>\n",
        "</tr>\n",
        "</table></div>\n"
       ],
       "metadata": {},
       "output_type": "pyout",
       "prompt_number": 8,
       "text": [
        "<IPython.core.display.HTML at 0x7f4deffcabd0>"
       ]
      }
     ],
     "prompt_number": 8
    },
    {
     "cell_type": "code",
     "collapsed": false,
     "input": [
      "display_molecule(benzene)"
     ],
     "language": "python",
     "metadata": {},
     "outputs": [
      {
       "metadata": {},
       "output_type": "pyout",
       "png": "[encoded data removed]",
       "prompt_number": 33,
       "text": [
        "<rdkit.Chem.rdchem.Mol at 0x7f4159929360>"
       ]
      }
     ],
     "prompt_number": 33
    }
   ],
   "metadata": {}
  }
 ]
}
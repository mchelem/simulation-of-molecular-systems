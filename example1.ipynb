{
 "metadata": {
  "name": "",
  "signature": "sha256:bc752b0323e303e9b5c5a31dc20a6d9b05f4d622e4f5f9fa6433b741f5508ea3"
 },
 "nbformat": 3,
 "nbformat_minor": 0,
 "worksheets": [
  {
   "cells": [
    {
     "cell_type": "markdown",
     "metadata": {},
     "source": [
      "## Imports and utilitiy functions to run the example"
     ]
    },
    {
     "cell_type": "code",
     "collapsed": false,
     "input": [
      "# Displaying utilities\n",
      "from ipython_integration import display_summary, display_molecule\n",
      "\n",
      "# pDynamo modules\n",
      "from pMolecule import System\n",
      "from pCore import Selection\n",
      "from pMoleculeScripts import MergeByAtom, PruneByAtom"
     ],
     "language": "python",
     "metadata": {},
     "outputs": [],
     "prompt_number": 1
    },
    {
     "cell_type": "markdown",
     "metadata": {},
     "source": [
      "## Create a water molecule"
     ]
    },
    {
     "cell_type": "code",
     "collapsed": false,
     "input": [
      "# Create a water molecule\n",
      "water = System.FromAtoms([8, 1, 1])\n",
      "water.label = \"Water\"\n",
      "display_summary(water)"
     ],
     "language": "python",
     "metadata": {},
     "outputs": [
      {
       "html": [
        "<h1>\n",
        "Summary for System \"Water\"\n",
        "</h1>\n",
        "<div>\n",
        "<table border = \"1\" cellpadding = \"10\" cellspacing = \"0\">\n",
        "<tr><th colspan = \"4\">Atom Container Summary</th></tr>\n",
        "<tr>\n",
        "<td>Number of Atoms</td>\n",
        "<td>3</td>\n",
        "<td>Number of Heavy Atoms</td>\n",
        "<td>1</td>\n",
        "</tr>\n",
        "<tr>\n",
        "<td>Number of Hydrogens</td>\n",
        "<td>2</td>\n",
        "<td>Number of Unknowns</td>\n",
        "<td>0</td>\n",
        "</tr>\n",
        "</table></div>\n",
        "<div>\n",
        "<table border = \"1\" cellpadding = \"10\" cellspacing = \"0\">\n",
        "<tr><th colspan = \"4\">Connectivity Summary</th></tr>\n",
        "<tr>\n",
        "<td>Atoms</td>\n",
        "<td>3</td>\n",
        "<td>&nbsp;</td>\n",
        "<td>&nbsp;</td>\n",
        "</tr>\n",
        "</table></div>\n"
       ],
       "metadata": {},
       "output_type": "pyout",
       "prompt_number": 2,
       "text": [
        "<IPython.core.display.HTML at 0x7f42469d6150>"
       ]
      }
     ],
     "prompt_number": 2
    },
    {
     "cell_type": "code",
     "collapsed": false,
     "input": [
      "display_molecule(water)"
     ],
     "language": "python",
     "metadata": {},
     "outputs": [
      {
       "metadata": {},
       "output_type": "pyout",
       "png": "[encoded data removed]",
       "prompt_number": 3,
       "text": [
        "<rdkit.Chem.rdchem.Mol at 0x7f4246a3f6e0>"
       ]
      }
     ],
     "prompt_number": 3
    },
    {
     "cell_type": "markdown",
     "metadata": {},
     "source": [
      "## Create a water dimer"
     ]
    },
    {
     "cell_type": "code",
     "collapsed": false,
     "input": [
      "# Create a water dimer\n",
      "waterDimer = MergeByAtom (water, water)\n",
      "waterDimer.label = \"Water Dimer\"\n",
      "display_summary(waterDimer)"
     ],
     "language": "python",
     "metadata": {},
     "outputs": [
      {
       "html": [
        "<h1>\n",
        "Summary for System \"Water Dimer\"\n",
        "</h1>\n",
        "<div>\n",
        "<table border = \"1\" cellpadding = \"10\" cellspacing = \"0\">\n",
        "<tr><th colspan = \"4\">Atom Container Summary</th></tr>\n",
        "<tr>\n",
        "<td>Number of Atoms</td>\n",
        "<td>6</td>\n",
        "<td>Number of Heavy Atoms</td>\n",
        "<td>2</td>\n",
        "</tr>\n",
        "<tr>\n",
        "<td>Number of Hydrogens</td>\n",
        "<td>4</td>\n",
        "<td>Number of Unknowns</td>\n",
        "<td>0</td>\n",
        "</tr>\n",
        "</table></div>\n",
        "<div>\n",
        "<table border = \"1\" cellpadding = \"10\" cellspacing = \"0\">\n",
        "<tr><th colspan = \"4\">Connectivity Summary</th></tr>\n",
        "<tr>\n",
        "<td>Atoms</td>\n",
        "<td>6</td>\n",
        "<td>Bonds</td>\n",
        "<td>0</td>\n",
        "</tr>\n",
        "<tr>\n",
        "<td>Angles</td>\n",
        "<td>0</td>\n",
        "<td>Dihedrals</td>\n",
        "<td>0</td>\n",
        "</tr>\n",
        "<tr>\n",
        "<td>Isolates</td>\n",
        "<td>0</td>\n",
        "<td>Ring Sets</td>\n",
        "<td>0</td>\n",
        "</tr>\n",
        "</table></div>\n"
       ],
       "metadata": {},
       "output_type": "pyout",
       "prompt_number": 5,
       "text": [
        "<IPython.core.display.HTML at 0x7f426d024d90>"
       ]
      }
     ],
     "prompt_number": 5
    },
    {
     "cell_type": "code",
     "collapsed": false,
     "input": [
      "display_molecule(waterDimer)"
     ],
     "language": "python",
     "metadata": {},
     "outputs": [
      {
       "metadata": {},
       "output_type": "pyout",
       "png": "[encoded data removed]",
       "prompt_number": 52,
       "text": [
        "<rdkit.Chem.rdchem.Mol at 0x7f83f7f98280>"
       ]
      }
     ],
     "prompt_number": 52
    },
    {
     "cell_type": "markdown",
     "metadata": {},
     "source": [
      "## Create a hydroxyl"
     ]
    },
    {
     "cell_type": "code",
     "collapsed": false,
     "input": [
      "# Create a hydroxyl\n",
      "oh = Selection.FromIterable([0, 1])\n",
      "hydroxyl = PruneByAtom(water, oh)\n",
      "hydroxyl.label = \"Hydroxyl\"\n",
      "display_summary(hydroxyl)"
     ],
     "language": "python",
     "metadata": {},
     "outputs": [
      {
       "html": [
        "<h1>\n",
        "Summary for System \"Hydroxyl\"\n",
        "</h1>\n",
        "<div>\n",
        "<table border = \"1\" cellpadding = \"10\" cellspacing = \"0\">\n",
        "<tr><th colspan = \"4\">Atom Container Summary</th></tr>\n",
        "<tr>\n",
        "<td>Number of Atoms</td>\n",
        "<td>2</td>\n",
        "<td>Number of Heavy Atoms</td>\n",
        "<td>1</td>\n",
        "</tr>\n",
        "<tr>\n",
        "<td>Number of Hydrogens</td>\n",
        "<td>1</td>\n",
        "<td>Number of Unknowns</td>\n",
        "<td>0</td>\n",
        "</tr>\n",
        "</table></div>\n",
        "<div>\n",
        "<table border = \"1\" cellpadding = \"10\" cellspacing = \"0\">\n",
        "<tr><th colspan = \"4\">Connectivity Summary</th></tr>\n",
        "<tr>\n",
        "<td>Atoms</td>\n",
        "<td>2</td>\n",
        "<td>Bonds</td>\n",
        "<td>0</td>\n",
        "</tr>\n",
        "<tr>\n",
        "<td>Angles</td>\n",
        "<td>0</td>\n",
        "<td>Dihedrals</td>\n",
        "<td>0</td>\n",
        "</tr>\n",
        "<tr>\n",
        "<td>Isolates</td>\n",
        "<td>0</td>\n",
        "<td>Ring Sets</td>\n",
        "<td>0</td>\n",
        "</tr>\n",
        "</table></div>\n"
       ],
       "metadata": {},
       "output_type": "pyout",
       "prompt_number": 6,
       "text": [
        "<IPython.core.display.HTML at 0x7f423c512a90>"
       ]
      }
     ],
     "prompt_number": 6
    },
    {
     "cell_type": "code",
     "collapsed": false,
     "input": [
      "display_molecule(hydroxyl)"
     ],
     "language": "python",
     "metadata": {},
     "outputs": [
      {
       "metadata": {},
       "output_type": "pyout",
       "png": "[encoded data removed]",
       "prompt_number": 7,
       "text": [
        "<rdkit.Chem.rdchem.Mol at 0x7f423c520980>"
       ]
      }
     ],
     "prompt_number": 7
    }
   ],
   "metadata": {}
  }
 ]
}
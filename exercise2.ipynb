{
 "metadata": {
  "name": "",
  "signature": "sha256:40c58ac5e733ee6177695be5c38be9a4b1a7d274af67443bbd20c170447beea5"
 },
 "nbformat": 3,
 "nbformat_minor": 0,
 "worksheets": [
  {
   "cells": [
    {
     "cell_type": "markdown",
     "metadata": {},
     "source": [
      "## Imports and utilitiy functions to run the example"
     ]
    },
    {
     "cell_type": "code",
     "collapsed": false,
     "input": [
      "# Displaying utilities\n",
      "from ipython_integration import display_summary, display_molecule\n",
      "\n",
      "# pDynamo modules\n",
      "from pBabel import MOLFile_ToSystem, MOLFile_FromSystem, XYZFile_ToSystem, XYZFile_FromSystem, SMILES_ToSystem\n",
      "import pMolecule\n",
      "\n",
      "import os\n",
      "data_dir = os.path.dirname('pDynamo-1.9.0/book/data/')"
     ],
     "language": "python",
     "metadata": {},
     "outputs": [],
     "prompt_number": 2
    },
    {
     "cell_type": "markdown",
     "metadata": {},
     "source": [
      "#2.1. What happens when converting between different formats?"
     ]
    },
    {
     "cell_type": "code",
     "collapsed": false,
     "input": [
      "# Initialize a list to contain the molecules\n",
      "moleculeName = \"bala_c7eq\""
     ],
     "language": "python",
     "metadata": {},
     "outputs": [],
     "prompt_number": 3
    },
    {
     "cell_type": "markdown",
     "metadata": {},
     "source": [
      "## Read in Mol Format"
     ]
    },
    {
     "cell_type": "code",
     "collapsed": false,
     "input": [
      "mol_molecule = MOLFile_ToSystem(os.path.join(data_dir, 'mol', moleculeName + \".mol\"))\n",
      "display_summary(mol_molecule)"
     ],
     "language": "python",
     "metadata": {},
     "outputs": [
      {
       "html": [
        "<h1>\n",
        "Summary for System \"bALA C7 equatorial configuration - MOL format.\"\n",
        "</h1>\n",
        "<div>\n",
        "<table border = \"1\" cellpadding = \"10\" cellspacing = \"0\">\n",
        "<tr><th colspan = \"4\">Atom Container Summary</th></tr>\n",
        "<tr>\n",
        "<td>Number of Atoms</td>\n",
        "<td>22</td>\n",
        "<td>Number of Heavy Atoms</td>\n",
        "<td>10</td>\n",
        "</tr>\n",
        "<tr>\n",
        "<td>Number of Hydrogens</td>\n",
        "<td>12</td>\n",
        "<td>Number of Unknowns</td>\n",
        "<td>0</td>\n",
        "</tr>\n",
        "</table></div>\n",
        "<div>\n",
        "<table border = \"1\" cellpadding = \"10\" cellspacing = \"0\">\n",
        "<tr><th colspan = \"4\">Connectivity Summary</th></tr>\n",
        "<tr>\n",
        "<td>Atoms</td>\n",
        "<td>22</td>\n",
        "<td>Bonds</td>\n",
        "<td>21</td>\n",
        "</tr>\n",
        "<tr>\n",
        "<td>Angles</td>\n",
        "<td>36</td>\n",
        "<td>Dihedrals</td>\n",
        "<td>41</td>\n",
        "</tr>\n",
        "<tr>\n",
        "<td>Isolates</td>\n",
        "<td>1</td>\n",
        "<td>Ring Sets</td>\n",
        "<td>0</td>\n",
        "</tr>\n",
        "</table></div>\n"
       ],
       "metadata": {},
       "output_type": "pyout",
       "prompt_number": 4,
       "text": [
        "<IPython.core.display.HTML at 0x7f165c0d7190>"
       ]
      }
     ],
     "prompt_number": 4
    },
    {
     "cell_type": "code",
     "collapsed": false,
     "input": [
      "display_molecule(mol_molecule)"
     ],
     "language": "python",
     "metadata": {},
     "outputs": [
      {
       "metadata": {},
       "output_type": "pyout",
       "png": "[encoded data removed]",
       "prompt_number": 5,
       "text": [
        "<rdkit.Chem.rdchem.Mol at 0x7f1635652520>"
       ]
      }
     ],
     "prompt_number": 5
    },
    {
     "cell_type": "markdown",
     "metadata": {},
     "source": [
      "## Write in XYZ Format"
     ]
    },
    {
     "cell_type": "code",
     "collapsed": false,
     "input": [
      "XYZFile_FromSystem(os.path.join('/tmp/', moleculeName + '.xyz'), mol_molecule)"
     ],
     "language": "python",
     "metadata": {},
     "outputs": [],
     "prompt_number": 6
    },
    {
     "cell_type": "markdown",
     "metadata": {},
     "source": [
      "## Read from XYZ Format"
     ]
    },
    {
     "cell_type": "code",
     "collapsed": false,
     "input": [
      "xyz_molecule = XYZFile_ToSystem(os.path.join('/tmp/', moleculeName + '.xyz'))"
     ],
     "language": "python",
     "metadata": {},
     "outputs": [],
     "prompt_number": 7
    },
    {
     "cell_type": "markdown",
     "metadata": {},
     "source": [
      "## Write back to Mol Format"
     ]
    },
    {
     "cell_type": "code",
     "collapsed": false,
     "input": [
      "# Infer bonds from coordinates, since XYZ doesn't have this information\n",
      "xyz_molecule.BondsFromCoordinates3()\n",
      "# Assume all single bonds\n",
      "for item in xyz_molecule.connectivity.bonds.items:\n",
      "    item.type = pMolecule.SingleBond()\n",
      "    \n",
      "xyz_molecule = MOLFile_FromSystem(os.path.join('/tmp/', moleculeName + '.mol'), xyz_molecule)"
     ],
     "language": "python",
     "metadata": {},
     "outputs": [],
     "prompt_number": 8
    },
    {
     "cell_type": "markdown",
     "metadata": {},
     "source": [
      "## Read mol format again"
     ]
    },
    {
     "cell_type": "code",
     "collapsed": false,
     "input": [
      "mol_molecule = MOLFile_ToSystem(os.path.join('/tmp/', moleculeName + '.mol'))\n",
      "display_summary(mol_molecule)"
     ],
     "language": "python",
     "metadata": {},
     "outputs": [
      {
       "html": [
        "<h1>\n",
        "Summary for System \"bALA C7 equatorial configuration - MOL format.\"\n",
        "</h1>\n",
        "<div>\n",
        "<table border = \"1\" cellpadding = \"10\" cellspacing = \"0\">\n",
        "<tr><th colspan = \"4\">Atom Container Summary</th></tr>\n",
        "<tr>\n",
        "<td>Number of Atoms</td>\n",
        "<td>22</td>\n",
        "<td>Number of Heavy Atoms</td>\n",
        "<td>10</td>\n",
        "</tr>\n",
        "<tr>\n",
        "<td>Number of Hydrogens</td>\n",
        "<td>12</td>\n",
        "<td>Number of Unknowns</td>\n",
        "<td>0</td>\n",
        "</tr>\n",
        "</table></div>\n",
        "<div>\n",
        "<table border = \"1\" cellpadding = \"10\" cellspacing = \"0\">\n",
        "<tr><th colspan = \"4\">Connectivity Summary</th></tr>\n",
        "<tr>\n",
        "<td>Atoms</td>\n",
        "<td>22</td>\n",
        "<td>Bonds</td>\n",
        "<td>21</td>\n",
        "</tr>\n",
        "<tr>\n",
        "<td>Angles</td>\n",
        "<td>36</td>\n",
        "<td>Dihedrals</td>\n",
        "<td>41</td>\n",
        "</tr>\n",
        "<tr>\n",
        "<td>Isolates</td>\n",
        "<td>1</td>\n",
        "<td>Ring Sets</td>\n",
        "<td>0</td>\n",
        "</tr>\n",
        "</table></div>\n"
       ],
       "metadata": {},
       "output_type": "pyout",
       "prompt_number": 9,
       "text": [
        "<IPython.core.display.HTML at 0x7f162a6c6c10>"
       ]
      }
     ],
     "prompt_number": 9
    },
    {
     "cell_type": "code",
     "collapsed": false,
     "input": [
      "display_molecule(mol_molecule)"
     ],
     "language": "python",
     "metadata": {},
     "outputs": [
      {
       "metadata": {},
       "output_type": "pyout",
       "png": "[encoded data removed]",
       "prompt_number": 10,
       "text": [
        "<rdkit.Chem.rdchem.Mol at 0x7f162dc78750>"
       ]
      }
     ],
     "prompt_number": 10
    },
    {
     "cell_type": "markdown",
     "metadata": {},
     "source": [
      "## Conclusion: When converting to formats where bonds are not saved, the information can no longer be retrieved. MOL format has both coordinates and bonds. PDB and XYZ only have coordinates. SMILES only has bonds."
     ]
    },
    {
     "cell_type": "markdown",
     "metadata": {},
     "source": [
      "## 2.2 Play with the smiles format. What happens when it is converted to MOL or PDB?"
     ]
    },
    {
     "cell_type": "markdown",
     "metadata": {},
     "source": [
      "## Create a toluene and tryptophan"
     ]
    },
    {
     "cell_type": "code",
     "collapsed": false,
     "input": [
      "toluene = SMILES_ToSystem('Cc1ccccc1', log=None)\n",
      "display_summary(toluene)"
     ],
     "language": "python",
     "metadata": {},
     "outputs": [
      {
       "html": [
        "<h1>\n",
        "Summary for System \"Cc1ccccc1\"\n",
        "</h1>\n",
        "<div>\n",
        "<table border = \"1\" cellpadding = \"10\" cellspacing = \"0\">\n",
        "<tr><th colspan = \"4\">Atom Container Summary</th></tr>\n",
        "<tr>\n",
        "<td>Number of Atoms</td>\n",
        "<td>15</td>\n",
        "<td>Number of Heavy Atoms</td>\n",
        "<td>7</td>\n",
        "</tr>\n",
        "<tr>\n",
        "<td>Number of Hydrogens</td>\n",
        "<td>8</td>\n",
        "<td>Number of Unknowns</td>\n",
        "<td>0</td>\n",
        "</tr>\n",
        "</table></div>\n",
        "<div>\n",
        "<table border = \"1\" cellpadding = \"10\" cellspacing = \"0\">\n",
        "<tr><th colspan = \"4\">Connectivity Summary</th></tr>\n",
        "<tr>\n",
        "<td>Atoms</td>\n",
        "<td>15</td>\n",
        "<td>Bonds</td>\n",
        "<td>15</td>\n",
        "</tr>\n",
        "<tr>\n",
        "<td>Angles</td>\n",
        "<td>24</td>\n",
        "<td>Dihedrals</td>\n",
        "<td>30</td>\n",
        "</tr>\n",
        "<tr>\n",
        "<td>Isolates</td>\n",
        "<td>1</td>\n",
        "<td>Ring Sets</td>\n",
        "<td>1</td>\n",
        "</tr>\n",
        "</table></div>\n"
       ],
       "metadata": {},
       "output_type": "pyout",
       "prompt_number": 11,
       "text": [
        "<IPython.core.display.HTML at 0x7f162a6c63d0>"
       ]
      }
     ],
     "prompt_number": 11
    },
    {
     "cell_type": "code",
     "collapsed": false,
     "input": [
      "display_molecule(toluene)"
     ],
     "language": "python",
     "metadata": {},
     "outputs": [
      {
       "metadata": {},
       "output_type": "pyout",
       "png": "[encoded data removed]",
       "prompt_number": 12,
       "text": [
        "<rdkit.Chem.rdchem.Mol at 0x7f162dc78910>"
       ]
      }
     ],
     "prompt_number": 12
    },
    {
     "cell_type": "code",
     "collapsed": false,
     "input": [
      "tryptophan = SMILES_ToSystem('c1ccc2c(c1)c(c[nH]2)C[C@@H](C(=O)O)N', log=None)\n",
      "display_summary(tryptophan)"
     ],
     "language": "python",
     "metadata": {},
     "outputs": [
      {
       "html": [
        "<h1>\n",
        "Summary for System \"c1ccc2c(c1)c(c[nH]2)C[C@@H](C(=O)O)N\"\n",
        "</h1>\n",
        "<div>\n",
        "<table border = \"1\" cellpadding = \"10\" cellspacing = \"0\">\n",
        "<tr><th colspan = \"4\">Atom Container Summary</th></tr>\n",
        "<tr>\n",
        "<td>Number of Atoms</td>\n",
        "<td>27</td>\n",
        "<td>Number of Heavy Atoms</td>\n",
        "<td>15</td>\n",
        "</tr>\n",
        "<tr>\n",
        "<td>Number of Hydrogens</td>\n",
        "<td>12</td>\n",
        "<td>Number of Unknowns</td>\n",
        "<td>0</td>\n",
        "</tr>\n",
        "</table></div>\n",
        "<div>\n",
        "<table border = \"1\" cellpadding = \"10\" cellspacing = \"0\">\n",
        "<tr><th colspan = \"4\">Connectivity Summary</th></tr>\n",
        "<tr>\n",
        "<td>Atoms</td>\n",
        "<td>27</td>\n",
        "<td>Bonds</td>\n",
        "<td>28</td>\n",
        "</tr>\n",
        "<tr>\n",
        "<td>Angles</td>\n",
        "<td>46</td>\n",
        "<td>Dihedrals</td>\n",
        "<td>69</td>\n",
        "</tr>\n",
        "<tr>\n",
        "<td>Isolates</td>\n",
        "<td>1</td>\n",
        "<td>Ring Sets</td>\n",
        "<td>1</td>\n",
        "</tr>\n",
        "</table></div>\n"
       ],
       "metadata": {},
       "output_type": "pyout",
       "prompt_number": 13,
       "text": [
        "<IPython.core.display.HTML at 0x7f165c0d71d0>"
       ]
      }
     ],
     "prompt_number": 13
    },
    {
     "cell_type": "code",
     "collapsed": false,
     "input": [
      "display_molecule(tryptophan)"
     ],
     "language": "python",
     "metadata": {},
     "outputs": [
      {
       "metadata": {},
       "output_type": "pyout",
       "png": "[encoded data removed]",
       "prompt_number": 14,
       "text": [
        "<rdkit.Chem.rdchem.Mol at 0x7f162dc789f0>"
       ]
      }
     ],
     "prompt_number": 14
    },
    {
     "cell_type": "code",
     "collapsed": false,
     "input": [
      "try:\n",
      "    MOLFile_FromSystem(os.path.join('/tmp/', 'toluene.mol'), toluene)\n",
      "except Exception as e:\n",
      "    print e"
     ],
     "language": "python",
     "metadata": {},
     "outputs": [
      {
       "output_type": "stream",
       "stream": "stdout",
       "text": [
        "Invalid or missing data to write to MOL file.\n"
       ]
      }
     ],
     "prompt_number": 15
    },
    {
     "cell_type": "markdown",
     "metadata": {},
     "source": [
      "## Conclusion: One cannot write the system directly to MOL or PDB because these formats require coordinates to be set and SMILES doesn't specify coordinates."
     ]
    }
   ],
   "metadata": {}
  }
 ]
}